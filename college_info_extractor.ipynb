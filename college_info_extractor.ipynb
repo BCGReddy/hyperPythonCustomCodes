{
  "nbformat": 4,
  "nbformat_minor": 0,
  "metadata": {
    "colab": {
      "name": "college_info_extractor.ipynb",
      "provenance": [],
      "authorship_tag": "ABX9TyPScV/+349jIHveS64c/JMP",
      "include_colab_link": true
    },
    "kernelspec": {
      "name": "python3",
      "display_name": "Python 3"
    },
    "language_info": {
      "name": "python"
    }
  },
  "cells": [
    {
      "cell_type": "markdown",
      "metadata": {
        "id": "view-in-github",
        "colab_type": "text"
      },
      "source": [
        "<a href=\"https://colab.research.google.com/github/manideep-malyala/hyperPythonCustomCodes/blob/main/college_info_extractor.ipynb\" target=\"_parent\"><img src=\"https://colab.research.google.com/assets/colab-badge.svg\" alt=\"Open In Colab\"/></a>"
      ]
    },
    {
      "cell_type": "code",
      "execution_count": 9,
      "metadata": {
        "id": "EGb2c7jSWU4O"
      },
      "outputs": [],
      "source": [
        "import pandas as pd"
      ]
    },
    {
      "cell_type": "code",
      "source": [
        "def college_info_extractor(r_string):\n",
        "  rD = pd.read_html(r_string)\n",
        "  r = dict(rD[0][5])\n",
        "  if len(rD) == 2:\n",
        "    raw = dict(rD[1]['Name'])\n",
        "    myData = []\n",
        "    for eC in raw.values():\n",
        "      myData.append(eC)\n",
        "    snippet = \"\"\"<tr>\n",
        "                             <th scope=\"row\">#</th>\n",
        "                             <td>{}</td>\n",
        "                             <td>{}</td>\n",
        "                             <td>\"\"\".format(r[0].title(), r[1].title()) \n",
        "    myCode = \"<li>{}</li>\"\n",
        "    exData = []\n",
        "    exData.append(\"<ul>\")\n",
        "    for eC in myData:\n",
        "      exData.append(myCode.format(eC))\n",
        "    exData.append(\"</ul>\")\n",
        "    print(snippet)\n",
        "    for e_course in exData:\n",
        "      print(e_course) \n",
        "    print(   \"\"\"</td></tr>\"\"\")\n",
        "  else:\n",
        "    print(\"DataFrame Invalid\")"
      ],
      "metadata": {
        "id": "vmBPwdHCcWGJ"
      },
      "execution_count": 22,
      "outputs": []
    },
    {
      "cell_type": "code",
      "source": [
        "college_info_extractor(\"https://apsche.ap.gov.in/unv_filter2.php?a=10141\")"
      ],
      "metadata": {
        "id": "iFJeivrWdWzY",
        "colab": {
          "base_uri": "https://localhost:8080/"
        },
        "outputId": "48de9e0f-3819-445b-a69b-84e22f0df760"
      },
      "execution_count": 24,
      "outputs": [
        {
          "output_type": "stream",
          "name": "stdout",
          "text": [
            "<tr>\n",
            "                             <th scope=\"row\">#</th>\n",
            "                             <td>Aditya Degree College Srinagar Asilmetta Visakhapatnam</td>\n",
            "                             <td>Visakhapatnam(U)</td>\n",
            "                             <td>\n",
            "<ul>\n",
            "<li>B.Com-Computer Applications</li>\n",
            "<li>B.SC-Mathematics-Physics-Computer Science</li>\n",
            "<li>B.SC-Mathematics-Physics-Chemistry</li>\n",
            "<li>B.SC-Mathematics-Electronics-Computer Science</li>\n",
            "<li>B.SC-Bio-Technology-Microbiology-Chemistry</li>\n",
            "<li>B.SC-Bio-Technology-Bio-Chemistry-Chemistry</li>\n",
            "<li>B.SC-Mathematics-Statistics-Computer Science</li>\n",
            "<li>BBA-Bachelor of Business Administration</li>\n",
            "</ul>\n",
            "</td></tr>\n"
          ]
        }
      ]
    },
    {
      "cell_type": "code",
      "source": [
        ""
      ],
      "metadata": {
        "id": "JQIuec203igt"
      },
      "execution_count": null,
      "outputs": []
    }
  ]
}